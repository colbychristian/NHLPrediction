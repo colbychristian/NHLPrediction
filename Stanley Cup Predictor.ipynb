{
 "cells": [
  {
   "cell_type": "code",
   "execution_count": 1,
   "metadata": {},
   "outputs": [
    {
     "name": "stdout",
     "output_type": "stream",
     "text": [
      "C:\\Users\\USER\\Stanley Cup Winner Predictor\n"
     ]
    }
   ],
   "source": [
    "import os\n",
    "import tarfile\n",
    "import pandas as pd\n",
    "cwd = os.getcwd()\n",
    "print(cwd)"
   ]
  },
  {
   "cell_type": "code",
   "execution_count": 2,
   "metadata": {},
   "outputs": [],
   "source": [
    "NHL_SEASON_DATA_PATH = 'nhl_season_data'\n",
    "\n",
    "def load_nhl_data(nhl_season_data_path=NHL_SEASON_DATA_PATH):\n",
    "    csv_path = os.path.join(nhl_season_data_path, 'teamHistoricalStats.csv')\n",
    "    return pd.read_csv(csv_path, encoding = \"ISO-8859-1\")\n",
    "\n",
    "def load_current_nhl_data(nhl_season_data_path=NHL_SEASON_DATA_PATH):\n",
    "    csv_path = os.path.join(nhl_season_data_path, 'teamCurrentStats.csv')\n",
    "    return pd.read_csv(csv_path, encoding = \"ISO-8859-1\")"
   ]
  },
  {
   "cell_type": "code",
   "execution_count": 3,
   "metadata": {},
   "outputs": [],
   "source": [
    "nhl_season_data = load_nhl_data()\n",
    "X = load_current_nhl_data()"
   ]
  },
  {
   "cell_type": "code",
   "execution_count": 4,
   "metadata": {},
   "outputs": [
    {
     "data": {
      "text/html": [
       "<div>\n",
       "<style scoped>\n",
       "    .dataframe tbody tr th:only-of-type {\n",
       "        vertical-align: middle;\n",
       "    }\n",
       "\n",
       "    .dataframe tbody tr th {\n",
       "        vertical-align: top;\n",
       "    }\n",
       "\n",
       "    .dataframe thead th {\n",
       "        text-align: right;\n",
       "    }\n",
       "</style>\n",
       "<table border=\"1\" class=\"dataframe\">\n",
       "  <thead>\n",
       "    <tr style=\"text-align: right;\">\n",
       "      <th></th>\n",
       "      <th>TeamID</th>\n",
       "      <th>Team</th>\n",
       "      <th>SeasonCropped</th>\n",
       "      <th>P%</th>\n",
       "      <th>GF/GP</th>\n",
       "      <th>GA/GP</th>\n",
       "      <th>Net PP%</th>\n",
       "      <th>Net PK%</th>\n",
       "      <th>Shots/GP</th>\n",
       "      <th>SA/GP</th>\n",
       "      <th>WinStanleyCup</th>\n",
       "    </tr>\n",
       "  </thead>\n",
       "  <tbody>\n",
       "    <tr>\n",
       "      <th>0</th>\n",
       "      <td>2</td>\n",
       "      <td>Detroit Red Wings</td>\n",
       "      <td>1996</td>\n",
       "      <td>0.799</td>\n",
       "      <td>3.96</td>\n",
       "      <td>2.21</td>\n",
       "      <td>19.3</td>\n",
       "      <td>92.8</td>\n",
       "      <td>32.3</td>\n",
       "      <td>24.2</td>\n",
       "      <td>0</td>\n",
       "    </tr>\n",
       "    <tr>\n",
       "      <th>1</th>\n",
       "      <td>3</td>\n",
       "      <td>Montréal Canadiens</td>\n",
       "      <td>1978</td>\n",
       "      <td>0.806</td>\n",
       "      <td>4.49</td>\n",
       "      <td>2.29</td>\n",
       "      <td>31.4</td>\n",
       "      <td>85.3</td>\n",
       "      <td>32.8</td>\n",
       "      <td>25.9</td>\n",
       "      <td>1</td>\n",
       "    </tr>\n",
       "    <tr>\n",
       "      <th>2</th>\n",
       "      <td>4</td>\n",
       "      <td>Tampa Bay Lightning</td>\n",
       "      <td>2019</td>\n",
       "      <td>0.780</td>\n",
       "      <td>3.89</td>\n",
       "      <td>2.70</td>\n",
       "      <td>27.1</td>\n",
       "      <td>89.5</td>\n",
       "      <td>32.0</td>\n",
       "      <td>32.1</td>\n",
       "      <td>0</td>\n",
       "    </tr>\n",
       "    <tr>\n",
       "      <th>3</th>\n",
       "      <td>6</td>\n",
       "      <td>Detroit Red Wings</td>\n",
       "      <td>2006</td>\n",
       "      <td>0.756</td>\n",
       "      <td>3.67</td>\n",
       "      <td>2.51</td>\n",
       "      <td>20.0</td>\n",
       "      <td>87.0</td>\n",
       "      <td>34.1</td>\n",
       "      <td>26.6</td>\n",
       "      <td>0</td>\n",
       "    </tr>\n",
       "    <tr>\n",
       "      <th>4</th>\n",
       "      <td>8</td>\n",
       "      <td>Washington Capitals</td>\n",
       "      <td>2010</td>\n",
       "      <td>0.738</td>\n",
       "      <td>3.82</td>\n",
       "      <td>2.77</td>\n",
       "      <td>22.7</td>\n",
       "      <td>80.1</td>\n",
       "      <td>32.8</td>\n",
       "      <td>30.9</td>\n",
       "      <td>0</td>\n",
       "    </tr>\n",
       "  </tbody>\n",
       "</table>\n",
       "</div>"
      ],
      "text/plain": [
       "   TeamID                 Team  SeasonCropped     P%  GF/GP  GA/GP  Net PP%  \\\n",
       "0       2    Detroit Red Wings           1996  0.799   3.96   2.21     19.3   \n",
       "1       3   Montréal Canadiens           1978  0.806   4.49   2.29     31.4   \n",
       "2       4  Tampa Bay Lightning           2019  0.780   3.89   2.70     27.1   \n",
       "3       6    Detroit Red Wings           2006  0.756   3.67   2.51     20.0   \n",
       "4       8  Washington Capitals           2010  0.738   3.82   2.77     22.7   \n",
       "\n",
       "   Net PK%  Shots/GP  SA/GP  WinStanleyCup  \n",
       "0     92.8      32.3   24.2              0  \n",
       "1     85.3      32.8   25.9              1  \n",
       "2     89.5      32.0   32.1              0  \n",
       "3     87.0      34.1   26.6              0  \n",
       "4     80.1      32.8   30.9              0  "
      ]
     },
     "execution_count": 4,
     "metadata": {},
     "output_type": "execute_result"
    }
   ],
   "source": [
    "nhl_season_data.head()"
   ]
  },
  {
   "cell_type": "code",
   "execution_count": 5,
   "metadata": {},
   "outputs": [
    {
     "name": "stdout",
     "output_type": "stream",
     "text": [
      "<class 'pandas.core.frame.DataFrame'>\n",
      "RangeIndex: 1079 entries, 0 to 1078\n",
      "Data columns (total 11 columns):\n",
      " #   Column         Non-Null Count  Dtype  \n",
      "---  ------         --------------  -----  \n",
      " 0   TeamID         1079 non-null   int64  \n",
      " 1   Team           1079 non-null   object \n",
      " 2   SeasonCropped  1079 non-null   int64  \n",
      " 3   P%             1079 non-null   float64\n",
      " 4   GF/GP          1079 non-null   float64\n",
      " 5   GA/GP          1079 non-null   float64\n",
      " 6   Net PP%        1079 non-null   float64\n",
      " 7   Net PK%        1079 non-null   float64\n",
      " 8   Shots/GP       1079 non-null   float64\n",
      " 9   SA/GP          1079 non-null   float64\n",
      " 10  WinStanleyCup  1079 non-null   int64  \n",
      "dtypes: float64(7), int64(3), object(1)\n",
      "memory usage: 92.9+ KB\n"
     ]
    }
   ],
   "source": [
    "nhl_season_data.info()"
   ]
  },
  {
   "cell_type": "code",
   "execution_count": 6,
   "metadata": {},
   "outputs": [
    {
     "data": {
      "text/plain": [
       "Los Angeles Kings        43\n",
       "Chicago Blackhawks       43\n",
       "Montréal Canadiens       43\n",
       "Toronto Maple Leafs      43\n",
       "Washington Capitals      42\n",
       "Philadelphia Flyers      42\n",
       "Buffalo Sabres           42\n",
       "St. Louis Blues          42\n",
       "Boston Bruins            42\n",
       "Vancouver Canucks        42\n",
       "Pittsburgh Penguins      41\n",
       "Detroit Red Wings        41\n",
       "New York Rangers         41\n",
       "New York Islanders       41\n",
       "Edmonton Oilers          39\n",
       "Calgary Flames           39\n",
       "New Jersey Devils        37\n",
       "San Jose Sharks          27\n",
       "Tampa Bay Lightning      26\n",
       "Dallas Stars             26\n",
       "Anaheim Ducks            25\n",
       "Florida Panthers         25\n",
       "Winnipeg Jets            25\n",
       "Ottawa Senators          24\n",
       "Colorado Avalanche       24\n",
       "Carolina Hurricanes      22\n",
       "Nashville Predators      21\n",
       "Columbus Blue Jackets    19\n",
       "Minnesota Wild           19\n",
       "Hartford Whalers         18\n",
       "Phoenix Coyotes          17\n",
       "Quebec Nordiques         15\n",
       "Minnesota North Stars    15\n",
       "Atlanta Thrashers        11\n",
       "Arizona Coyotes           6\n",
       "Colorado Rockies          5\n",
       "Atlanta Flames            3\n",
       "Vegas Golden Knights      2\n",
       "Cleveland Barons          1\n",
       "Name: Team, dtype: int64"
      ]
     },
     "execution_count": 6,
     "metadata": {},
     "output_type": "execute_result"
    }
   ],
   "source": [
    "nhl_season_data['Team'].value_counts()"
   ]
  },
  {
   "cell_type": "code",
   "execution_count": 7,
   "metadata": {},
   "outputs": [
    {
     "data": {
      "text/html": [
       "<div>\n",
       "<style scoped>\n",
       "    .dataframe tbody tr th:only-of-type {\n",
       "        vertical-align: middle;\n",
       "    }\n",
       "\n",
       "    .dataframe tbody tr th {\n",
       "        vertical-align: top;\n",
       "    }\n",
       "\n",
       "    .dataframe thead th {\n",
       "        text-align: right;\n",
       "    }\n",
       "</style>\n",
       "<table border=\"1\" class=\"dataframe\">\n",
       "  <thead>\n",
       "    <tr style=\"text-align: right;\">\n",
       "      <th></th>\n",
       "      <th>TeamID</th>\n",
       "      <th>SeasonCropped</th>\n",
       "      <th>P%</th>\n",
       "      <th>GF/GP</th>\n",
       "      <th>GA/GP</th>\n",
       "      <th>Net PP%</th>\n",
       "      <th>Net PK%</th>\n",
       "      <th>Shots/GP</th>\n",
       "      <th>SA/GP</th>\n",
       "      <th>WinStanleyCup</th>\n",
       "    </tr>\n",
       "  </thead>\n",
       "  <tbody>\n",
       "    <tr>\n",
       "      <th>count</th>\n",
       "      <td>1079.000000</td>\n",
       "      <td>1079.000000</td>\n",
       "      <td>1079.000000</td>\n",
       "      <td>1079.000000</td>\n",
       "      <td>1079.000000</td>\n",
       "      <td>1079.000000</td>\n",
       "      <td>1079.000000</td>\n",
       "      <td>1079.000000</td>\n",
       "      <td>1079.000000</td>\n",
       "      <td>1079.000000</td>\n",
       "    </tr>\n",
       "    <tr>\n",
       "      <th>mean</th>\n",
       "      <td>639.615385</td>\n",
       "      <td>2000.859129</td>\n",
       "      <td>0.530673</td>\n",
       "      <td>3.081075</td>\n",
       "      <td>3.064374</td>\n",
       "      <td>16.322335</td>\n",
       "      <td>83.789249</td>\n",
       "      <td>29.812512</td>\n",
       "      <td>29.767006</td>\n",
       "      <td>0.039852</td>\n",
       "    </tr>\n",
       "    <tr>\n",
       "      <th>std</th>\n",
       "      <td>391.467352</td>\n",
       "      <td>12.236559</td>\n",
       "      <td>0.098850</td>\n",
       "      <td>0.580846</td>\n",
       "      <td>0.590817</td>\n",
       "      <td>3.644373</td>\n",
       "      <td>3.703413</td>\n",
       "      <td>2.165448</td>\n",
       "      <td>2.584937</td>\n",
       "      <td>0.195701</td>\n",
       "    </tr>\n",
       "    <tr>\n",
       "      <th>min</th>\n",
       "      <td>2.000000</td>\n",
       "      <td>1978.000000</td>\n",
       "      <td>0.238000</td>\n",
       "      <td>1.830000</td>\n",
       "      <td>1.890000</td>\n",
       "      <td>4.800000</td>\n",
       "      <td>70.200000</td>\n",
       "      <td>23.700000</td>\n",
       "      <td>22.100000</td>\n",
       "      <td>0.000000</td>\n",
       "    </tr>\n",
       "    <tr>\n",
       "      <th>25%</th>\n",
       "      <td>305.500000</td>\n",
       "      <td>1991.000000</td>\n",
       "      <td>0.463000</td>\n",
       "      <td>2.650000</td>\n",
       "      <td>2.615000</td>\n",
       "      <td>13.800000</td>\n",
       "      <td>81.600000</td>\n",
       "      <td>28.400000</td>\n",
       "      <td>28.150000</td>\n",
       "      <td>0.000000</td>\n",
       "    </tr>\n",
       "    <tr>\n",
       "      <th>50%</th>\n",
       "      <td>608.000000</td>\n",
       "      <td>2002.000000</td>\n",
       "      <td>0.538000</td>\n",
       "      <td>2.950000</td>\n",
       "      <td>2.960000</td>\n",
       "      <td>16.100000</td>\n",
       "      <td>84.100000</td>\n",
       "      <td>29.900000</td>\n",
       "      <td>29.800000</td>\n",
       "      <td>0.000000</td>\n",
       "    </tr>\n",
       "    <tr>\n",
       "      <th>75%</th>\n",
       "      <td>955.000000</td>\n",
       "      <td>2011.500000</td>\n",
       "      <td>0.604000</td>\n",
       "      <td>3.455000</td>\n",
       "      <td>3.410000</td>\n",
       "      <td>18.800000</td>\n",
       "      <td>86.300000</td>\n",
       "      <td>31.300000</td>\n",
       "      <td>31.600000</td>\n",
       "      <td>0.000000</td>\n",
       "    </tr>\n",
       "    <tr>\n",
       "      <th>max</th>\n",
       "      <td>1475.000000</td>\n",
       "      <td>2020.000000</td>\n",
       "      <td>0.806000</td>\n",
       "      <td>5.580000</td>\n",
       "      <td>5.190000</td>\n",
       "      <td>31.400000</td>\n",
       "      <td>95.400000</td>\n",
       "      <td>36.800000</td>\n",
       "      <td>37.000000</td>\n",
       "      <td>1.000000</td>\n",
       "    </tr>\n",
       "  </tbody>\n",
       "</table>\n",
       "</div>"
      ],
      "text/plain": [
       "            TeamID  SeasonCropped           P%        GF/GP        GA/GP  \\\n",
       "count  1079.000000    1079.000000  1079.000000  1079.000000  1079.000000   \n",
       "mean    639.615385    2000.859129     0.530673     3.081075     3.064374   \n",
       "std     391.467352      12.236559     0.098850     0.580846     0.590817   \n",
       "min       2.000000    1978.000000     0.238000     1.830000     1.890000   \n",
       "25%     305.500000    1991.000000     0.463000     2.650000     2.615000   \n",
       "50%     608.000000    2002.000000     0.538000     2.950000     2.960000   \n",
       "75%     955.000000    2011.500000     0.604000     3.455000     3.410000   \n",
       "max    1475.000000    2020.000000     0.806000     5.580000     5.190000   \n",
       "\n",
       "           Net PP%      Net PK%     Shots/GP        SA/GP  WinStanleyCup  \n",
       "count  1079.000000  1079.000000  1079.000000  1079.000000    1079.000000  \n",
       "mean     16.322335    83.789249    29.812512    29.767006       0.039852  \n",
       "std       3.644373     3.703413     2.165448     2.584937       0.195701  \n",
       "min       4.800000    70.200000    23.700000    22.100000       0.000000  \n",
       "25%      13.800000    81.600000    28.400000    28.150000       0.000000  \n",
       "50%      16.100000    84.100000    29.900000    29.800000       0.000000  \n",
       "75%      18.800000    86.300000    31.300000    31.600000       0.000000  \n",
       "max      31.400000    95.400000    36.800000    37.000000       1.000000  "
      ]
     },
     "execution_count": 7,
     "metadata": {},
     "output_type": "execute_result"
    }
   ],
   "source": [
    "nhl_season_data.describe()"
   ]
  },
  {
   "cell_type": "code",
   "execution_count": 8,
   "metadata": {},
   "outputs": [
    {
     "data": {
      "image/png": "[encoded data removed]",
      "text/plain": [
       "<Figure size 1440x1080 with 12 Axes>"
      ]
     },
     "metadata": {
      "needs_background": "light"
     },
     "output_type": "display_data"
    }
   ],
   "source": [
    "%matplotlib inline\n",
    "import matplotlib.pyplot as plt\n",
    "nhl_season_data.hist(bins=50, figsize=(20,15))\n",
    "plt.show()"
   ]
  },
  {
   "cell_type": "code",
   "execution_count": 9,
   "metadata": {},
   "outputs": [],
   "source": [
    "corr_matrix = nhl_season_data.corr()"
   ]
  },
  {
   "cell_type": "code",
   "execution_count": 10,
   "metadata": {},
   "outputs": [
    {
     "data": {
      "text/html": [
       "<div>\n",
       "<style scoped>\n",
       "    .dataframe tbody tr th:only-of-type {\n",
       "        vertical-align: middle;\n",
       "    }\n",
       "\n",
       "    .dataframe tbody tr th {\n",
       "        vertical-align: top;\n",
       "    }\n",
       "\n",
       "    .dataframe thead th {\n",
       "        text-align: right;\n",
       "    }\n",
       "</style>\n",
       "<table border=\"1\" class=\"dataframe\">\n",
       "  <thead>\n",
       "    <tr style=\"text-align: right;\">\n",
       "      <th></th>\n",
       "      <th>TeamID</th>\n",
       "      <th>SeasonCropped</th>\n",
       "      <th>P%</th>\n",
       "      <th>GF/GP</th>\n",
       "      <th>GA/GP</th>\n",
       "      <th>Net PP%</th>\n",
       "      <th>Net PK%</th>\n",
       "      <th>Shots/GP</th>\n",
       "      <th>SA/GP</th>\n",
       "      <th>WinStanleyCup</th>\n",
       "    </tr>\n",
       "  </thead>\n",
       "  <tbody>\n",
       "    <tr>\n",
       "      <th>TeamID</th>\n",
       "      <td>1.000000</td>\n",
       "      <td>-0.189768</td>\n",
       "      <td>-0.886769</td>\n",
       "      <td>-0.268869</td>\n",
       "      <td>0.539829</td>\n",
       "      <td>-0.342732</td>\n",
       "      <td>-0.453312</td>\n",
       "      <td>-0.361202</td>\n",
       "      <td>0.374681</td>\n",
       "      <td>-0.211263</td>\n",
       "    </tr>\n",
       "    <tr>\n",
       "      <th>SeasonCropped</th>\n",
       "      <td>-0.189768</td>\n",
       "      <td>1.000000</td>\n",
       "      <td>0.228139</td>\n",
       "      <td>-0.630048</td>\n",
       "      <td>-0.598221</td>\n",
       "      <td>-0.265640</td>\n",
       "      <td>0.238578</td>\n",
       "      <td>0.019524</td>\n",
       "      <td>0.032245</td>\n",
       "      <td>-0.035616</td>\n",
       "    </tr>\n",
       "    <tr>\n",
       "      <th>P%</th>\n",
       "      <td>-0.886769</td>\n",
       "      <td>0.228139</td>\n",
       "      <td>1.000000</td>\n",
       "      <td>0.300816</td>\n",
       "      <td>-0.613982</td>\n",
       "      <td>0.411846</td>\n",
       "      <td>0.491758</td>\n",
       "      <td>0.403134</td>\n",
       "      <td>-0.419401</td>\n",
       "      <td>0.242067</td>\n",
       "    </tr>\n",
       "    <tr>\n",
       "      <th>GF/GP</th>\n",
       "      <td>-0.268869</td>\n",
       "      <td>-0.630048</td>\n",
       "      <td>0.300816</td>\n",
       "      <td>1.000000</td>\n",
       "      <td>0.500810</td>\n",
       "      <td>0.643787</td>\n",
       "      <td>-0.154501</td>\n",
       "      <td>0.461594</td>\n",
       "      <td>0.074178</td>\n",
       "      <td>0.172629</td>\n",
       "    </tr>\n",
       "    <tr>\n",
       "      <th>GA/GP</th>\n",
       "      <td>0.539829</td>\n",
       "      <td>-0.598221</td>\n",
       "      <td>-0.613982</td>\n",
       "      <td>0.500810</td>\n",
       "      <td>1.000000</td>\n",
       "      <td>0.144997</td>\n",
       "      <td>-0.656472</td>\n",
       "      <td>0.050421</td>\n",
       "      <td>0.536598</td>\n",
       "      <td>-0.094575</td>\n",
       "    </tr>\n",
       "    <tr>\n",
       "      <th>Net PP%</th>\n",
       "      <td>-0.342732</td>\n",
       "      <td>-0.265640</td>\n",
       "      <td>0.411846</td>\n",
       "      <td>0.643787</td>\n",
       "      <td>0.144997</td>\n",
       "      <td>1.000000</td>\n",
       "      <td>-0.114586</td>\n",
       "      <td>0.406523</td>\n",
       "      <td>-0.007561</td>\n",
       "      <td>0.135841</td>\n",
       "    </tr>\n",
       "    <tr>\n",
       "      <th>Net PK%</th>\n",
       "      <td>-0.453312</td>\n",
       "      <td>0.238578</td>\n",
       "      <td>0.491758</td>\n",
       "      <td>-0.154501</td>\n",
       "      <td>-0.656472</td>\n",
       "      <td>-0.114586</td>\n",
       "      <td>1.000000</td>\n",
       "      <td>-0.019156</td>\n",
       "      <td>-0.419132</td>\n",
       "      <td>0.130376</td>\n",
       "    </tr>\n",
       "    <tr>\n",
       "      <th>Shots/GP</th>\n",
       "      <td>-0.361202</td>\n",
       "      <td>0.019524</td>\n",
       "      <td>0.403134</td>\n",
       "      <td>0.461594</td>\n",
       "      <td>0.050421</td>\n",
       "      <td>0.406523</td>\n",
       "      <td>-0.019156</td>\n",
       "      <td>1.000000</td>\n",
       "      <td>-0.013409</td>\n",
       "      <td>0.144170</td>\n",
       "    </tr>\n",
       "    <tr>\n",
       "      <th>SA/GP</th>\n",
       "      <td>0.374681</td>\n",
       "      <td>0.032245</td>\n",
       "      <td>-0.419401</td>\n",
       "      <td>0.074178</td>\n",
       "      <td>0.536598</td>\n",
       "      <td>-0.007561</td>\n",
       "      <td>-0.419132</td>\n",
       "      <td>-0.013409</td>\n",
       "      <td>1.000000</td>\n",
       "      <td>-0.109256</td>\n",
       "    </tr>\n",
       "    <tr>\n",
       "      <th>WinStanleyCup</th>\n",
       "      <td>-0.211263</td>\n",
       "      <td>-0.035616</td>\n",
       "      <td>0.242067</td>\n",
       "      <td>0.172629</td>\n",
       "      <td>-0.094575</td>\n",
       "      <td>0.135841</td>\n",
       "      <td>0.130376</td>\n",
       "      <td>0.144170</td>\n",
       "      <td>-0.109256</td>\n",
       "      <td>1.000000</td>\n",
       "    </tr>\n",
       "  </tbody>\n",
       "</table>\n",
       "</div>"
      ],
      "text/plain": [
       "                 TeamID  SeasonCropped        P%     GF/GP     GA/GP  \\\n",
       "TeamID         1.000000      -0.189768 -0.886769 -0.268869  0.539829   \n",
       "SeasonCropped -0.189768       1.000000  0.228139 -0.630048 -0.598221   \n",
       "P%            -0.886769       0.228139  1.000000  0.300816 -0.613982   \n",
       "GF/GP         -0.268869      -0.630048  0.300816  1.000000  0.500810   \n",
       "GA/GP          0.539829      -0.598221 -0.613982  0.500810  1.000000   \n",
       "Net PP%       -0.342732      -0.265640  0.411846  0.643787  0.144997   \n",
       "Net PK%       -0.453312       0.238578  0.491758 -0.154501 -0.656472   \n",
       "Shots/GP      -0.361202       0.019524  0.403134  0.461594  0.050421   \n",
       "SA/GP          0.374681       0.032245 -0.419401  0.074178  0.536598   \n",
       "WinStanleyCup -0.211263      -0.035616  0.242067  0.172629 -0.094575   \n",
       "\n",
       "                Net PP%   Net PK%  Shots/GP     SA/GP  WinStanleyCup  \n",
       "TeamID        -0.342732 -0.453312 -0.361202  0.374681      -0.211263  \n",
       "SeasonCropped -0.265640  0.238578  0.019524  0.032245      -0.035616  \n",
       "P%             0.411846  0.491758  0.403134 -0.419401       0.242067  \n",
       "GF/GP          0.643787 -0.154501  0.461594  0.074178       0.172629  \n",
       "GA/GP          0.144997 -0.656472  0.050421  0.536598      -0.094575  \n",
       "Net PP%        1.000000 -0.114586  0.406523 -0.007561       0.135841  \n",
       "Net PK%       -0.114586  1.000000 -0.019156 -0.419132       0.130376  \n",
       "Shots/GP       0.406523 -0.019156  1.000000 -0.013409       0.144170  \n",
       "SA/GP         -0.007561 -0.419132 -0.013409  1.000000      -0.109256  \n",
       "WinStanleyCup  0.135841  0.130376  0.144170 -0.109256       1.000000  "
      ]
     },
     "execution_count": 10,
     "metadata": {},
     "output_type": "execute_result"
    }
   ],
   "source": [
    "corr_matrix"
   ]
  },
  {
   "cell_type": "code",
   "execution_count": 11,
   "metadata": {},
   "outputs": [],
   "source": [
    "nhl_season_data_labels = nhl_season_data['WinStanleyCup'].copy()\n",
    "nhl_season_data = nhl_season_data.drop('WinStanleyCup', axis=1)"
   ]
  },
  {
   "cell_type": "code",
   "execution_count": 12,
   "metadata": {},
   "outputs": [
    {
     "name": "stdout",
     "output_type": "stream",
     "text": [
      "<class 'pandas.core.frame.DataFrame'>\n",
      "RangeIndex: 1079 entries, 0 to 1078\n",
      "Data columns (total 10 columns):\n",
      " #   Column         Non-Null Count  Dtype  \n",
      "---  ------         --------------  -----  \n",
      " 0   TeamID         1079 non-null   int64  \n",
      " 1   Team           1079 non-null   object \n",
      " 2   SeasonCropped  1079 non-null   int64  \n",
      " 3   P%             1079 non-null   float64\n",
      " 4   GF/GP          1079 non-null   float64\n",
      " 5   GA/GP          1079 non-null   float64\n",
      " 6   Net PP%        1079 non-null   float64\n",
      " 7   Net PK%        1079 non-null   float64\n",
      " 8   Shots/GP       1079 non-null   float64\n",
      " 9   SA/GP          1079 non-null   float64\n",
      "dtypes: float64(7), int64(2), object(1)\n",
      "memory usage: 84.4+ KB\n"
     ]
    }
   ],
   "source": [
    "nhl_season_data.info()"
   ]
  },
  {
   "cell_type": "code",
   "execution_count": 13,
   "metadata": {},
   "outputs": [],
   "source": [
    "\n",
    "nhl_season_data = nhl_season_data.drop('TeamID', axis=1)\n",
    "nhl_season_data = nhl_season_data.drop('Team', axis=1)\n",
    "nhl_season_data = nhl_season_data.drop('SeasonCropped', axis=1)"
   ]
  },
  {
   "cell_type": "code",
   "execution_count": 14,
   "metadata": {},
   "outputs": [
    {
     "name": "stdout",
     "output_type": "stream",
     "text": [
      "<class 'pandas.core.frame.DataFrame'>\n",
      "RangeIndex: 1079 entries, 0 to 1078\n",
      "Data columns (total 7 columns):\n",
      " #   Column    Non-Null Count  Dtype  \n",
      "---  ------    --------------  -----  \n",
      " 0   P%        1079 non-null   float64\n",
      " 1   GF/GP     1079 non-null   float64\n",
      " 2   GA/GP     1079 non-null   float64\n",
      " 3   Net PP%   1079 non-null   float64\n",
      " 4   Net PK%   1079 non-null   float64\n",
      " 5   Shots/GP  1079 non-null   float64\n",
      " 6   SA/GP     1079 non-null   float64\n",
      "dtypes: float64(7)\n",
      "memory usage: 59.1 KB\n"
     ]
    }
   ],
   "source": [
    "nhl_season_data.info()"
   ]
  },
  {
   "cell_type": "code",
   "execution_count": 15,
   "metadata": {},
   "outputs": [],
   "source": [
    "from sklearn.preprocessing import MinMaxScaler\n",
    "scaler = MinMaxScaler()\n",
    "scaled_nhl_season_data = scaler.fit_transform(nhl_season_data)\n",
    "#now the data is a numpy array and has no column headers"
   ]
  },
  {
   "cell_type": "code",
   "execution_count": 16,
   "metadata": {},
   "outputs": [
    {
     "name": "stdout",
     "output_type": "stream",
     "text": [
      "[[0.98767606 0.568      0.0969697  ... 0.8968254  0.65648855 0.1409396 ]\n",
      " [1.         0.70933333 0.12121212 ... 0.59920635 0.69465649 0.25503356]\n",
      " [0.95422535 0.54933333 0.24545455 ... 0.76587302 0.63358779 0.67114094]\n",
      " ...\n",
      " [0.29577465 0.384      0.54545455 ... 0.62698413 0.46564885 0.67785235]\n",
      " [0.29577465 0.14666667 0.37575758 ... 0.46825397 0.44274809 0.62416107]\n",
      " [0.         0.064      0.58484848 ... 0.46428571 0.16030534 0.59731544]]\n"
     ]
    }
   ],
   "source": [
    "print(scaled_nhl_season_data)"
   ]
  },
  {
   "cell_type": "code",
   "execution_count": 17,
   "metadata": {},
   "outputs": [
    {
     "data": {
      "text/plain": [
       "SVC(C=1, gamma=0.001, probability=True)"
      ]
     },
     "execution_count": 17,
     "metadata": {},
     "output_type": "execute_result"
    }
   ],
   "source": [
    "from sklearn.svm import SVC\n",
    "clf = SVC(C=1, gamma=0.001, kernel='rbf', probability=True)\n",
    "clf.fit(nhl_season_data, nhl_season_data_labels)"
   ]
  },
  {
   "cell_type": "code",
   "execution_count": 20,
   "metadata": {},
   "outputs": [
    {
     "name": "stdout",
     "output_type": "stream",
     "text": [
      "[[0.94210386 0.05789614]\n",
      " [0.93270297 0.06729703]\n",
      " [0.93986529 0.06013471]\n",
      " [0.94447975 0.05552025]\n",
      " [0.94730884 0.05269116]\n",
      " [0.93666237 0.06333763]\n",
      " [0.95885864 0.04114136]\n",
      " [0.93586556 0.06413444]\n",
      " [0.95304925 0.04695075]\n",
      " [0.95105151 0.04894849]\n",
      " [0.96024938 0.03975062]\n",
      " [0.94866744 0.05133256]\n",
      " [0.95484892 0.04515108]\n",
      " [0.95021904 0.04978096]\n",
      " [0.95801625 0.04198375]\n",
      " [0.95365315 0.04634685]\n",
      " [0.95042868 0.04957132]\n",
      " [0.93868628 0.06131372]\n",
      " [0.98645153 0.01354847]\n",
      " [0.96551656 0.03448344]\n",
      " [0.95445598 0.04554402]\n",
      " [0.95494294 0.04505706]\n",
      " [0.9697442  0.0302558 ]\n",
      " [0.96678763 0.03321237]\n",
      " [0.97438776 0.02561224]\n",
      " [0.9602019  0.0397981 ]\n",
      " [0.99354532 0.00645468]\n",
      " [0.96692235 0.03307765]\n",
      " [0.99295133 0.00704867]\n",
      " [0.99825332 0.00174668]\n",
      " [0.96566722 0.03433278]]\n"
     ]
    }
   ],
   "source": [
    "import numpy as np\n",
    "\n",
    "clf.predict(X)\n",
    "probs = clf.predict_proba(X)\n",
    "print(probs)"
   ]
  },
  {
   "cell_type": "code",
   "execution_count": 21,
   "metadata": {},
   "outputs": [
    {
     "ename": "KeyError",
     "evalue": "\"None of [Int64Index([  27,   38,   40,   41,   47,   58,   60,   70,   82,   99,\\n            ...\\n            1069, 1070, 1071, 1072, 1073, 1074, 1075, 1076, 1077, 1078],\\n           dtype='int64', length=863)] are in the [columns]\"",
     "output_type": "error",
     "traceback": [
      "\u001b[1;31m---------------------------------------------------------------------------\u001b[0m",
      "\u001b[1;31mKeyError\u001b[0m                                  Traceback (most recent call last)",
      "\u001b[1;32m<ipython-input-21-58436e307353>\u001b[0m in \u001b[0;36m<module>\u001b[1;34m\u001b[0m\n\u001b[0;32m      7\u001b[0m \u001b[1;32mfor\u001b[0m \u001b[0mtrain_index\u001b[0m\u001b[1;33m,\u001b[0m \u001b[0mtest_index\u001b[0m \u001b[1;32min\u001b[0m \u001b[0mskfolds\u001b[0m\u001b[1;33m.\u001b[0m\u001b[0msplit\u001b[0m\u001b[1;33m(\u001b[0m\u001b[0mnhl_season_data\u001b[0m\u001b[1;33m,\u001b[0m \u001b[0mnhl_season_data_labels\u001b[0m\u001b[1;33m)\u001b[0m\u001b[1;33m:\u001b[0m\u001b[1;33m\u001b[0m\u001b[1;33m\u001b[0m\u001b[0m\n\u001b[0;32m      8\u001b[0m     \u001b[0mclone_clf\u001b[0m \u001b[1;33m=\u001b[0m \u001b[0mclone\u001b[0m\u001b[1;33m(\u001b[0m\u001b[0mclf\u001b[0m\u001b[1;33m)\u001b[0m\u001b[1;33m\u001b[0m\u001b[1;33m\u001b[0m\u001b[0m\n\u001b[1;32m----> 9\u001b[1;33m     \u001b[0mX_train_folds\u001b[0m \u001b[1;33m=\u001b[0m \u001b[0mnhl_season_data\u001b[0m\u001b[1;33m[\u001b[0m\u001b[0mtrain_index\u001b[0m\u001b[1;33m]\u001b[0m\u001b[1;33m\u001b[0m\u001b[1;33m\u001b[0m\u001b[0m\n\u001b[0m\u001b[0;32m     10\u001b[0m     \u001b[0my_train_folds\u001b[0m \u001b[1;33m=\u001b[0m \u001b[1;33m(\u001b[0m\u001b[0mnhl_season_data_labels\u001b[0m\u001b[1;33m[\u001b[0m\u001b[0mtrain_index\u001b[0m\u001b[1;33m]\u001b[0m\u001b[1;33m)\u001b[0m\u001b[1;33m\u001b[0m\u001b[1;33m\u001b[0m\u001b[0m\n\u001b[0;32m     11\u001b[0m     \u001b[0mX_test_fold\u001b[0m \u001b[1;33m=\u001b[0m \u001b[0mnhl_season_data\u001b[0m\u001b[1;33m[\u001b[0m\u001b[0mtest_index\u001b[0m\u001b[1;33m]\u001b[0m\u001b[1;33m\u001b[0m\u001b[1;33m\u001b[0m\u001b[0m\n",
      "\u001b[1;32m~\\anaconda3\\lib\\site-packages\\pandas\\core\\frame.py\u001b[0m in \u001b[0;36m__getitem__\u001b[1;34m(self, key)\u001b[0m\n\u001b[0;32m   2906\u001b[0m             \u001b[1;32mif\u001b[0m \u001b[0mis_iterator\u001b[0m\u001b[1;33m(\u001b[0m\u001b[0mkey\u001b[0m\u001b[1;33m)\u001b[0m\u001b[1;33m:\u001b[0m\u001b[1;33m\u001b[0m\u001b[1;33m\u001b[0m\u001b[0m\n\u001b[0;32m   2907\u001b[0m                 \u001b[0mkey\u001b[0m \u001b[1;33m=\u001b[0m \u001b[0mlist\u001b[0m\u001b[1;33m(\u001b[0m\u001b[0mkey\u001b[0m\u001b[1;33m)\u001b[0m\u001b[1;33m\u001b[0m\u001b[1;33m\u001b[0m\u001b[0m\n\u001b[1;32m-> 2908\u001b[1;33m             \u001b[0mindexer\u001b[0m \u001b[1;33m=\u001b[0m \u001b[0mself\u001b[0m\u001b[1;33m.\u001b[0m\u001b[0mloc\u001b[0m\u001b[1;33m.\u001b[0m\u001b[0m_get_listlike_indexer\u001b[0m\u001b[1;33m(\u001b[0m\u001b[0mkey\u001b[0m\u001b[1;33m,\u001b[0m \u001b[0maxis\u001b[0m\u001b[1;33m=\u001b[0m\u001b[1;36m1\u001b[0m\u001b[1;33m,\u001b[0m \u001b[0mraise_missing\u001b[0m\u001b[1;33m=\u001b[0m\u001b[1;32mTrue\u001b[0m\u001b[1;33m)\u001b[0m\u001b[1;33m[\u001b[0m\u001b[1;36m1\u001b[0m\u001b[1;33m]\u001b[0m\u001b[1;33m\u001b[0m\u001b[1;33m\u001b[0m\u001b[0m\n\u001b[0m\u001b[0;32m   2909\u001b[0m \u001b[1;33m\u001b[0m\u001b[0m\n\u001b[0;32m   2910\u001b[0m         \u001b[1;31m# take() does not accept boolean indexers\u001b[0m\u001b[1;33m\u001b[0m\u001b[1;33m\u001b[0m\u001b[1;33m\u001b[0m\u001b[0m\n",
      "\u001b[1;32m~\\anaconda3\\lib\\site-packages\\pandas\\core\\indexing.py\u001b[0m in \u001b[0;36m_get_listlike_indexer\u001b[1;34m(self, key, axis, raise_missing)\u001b[0m\n\u001b[0;32m   1252\u001b[0m             \u001b[0mkeyarr\u001b[0m\u001b[1;33m,\u001b[0m \u001b[0mindexer\u001b[0m\u001b[1;33m,\u001b[0m \u001b[0mnew_indexer\u001b[0m \u001b[1;33m=\u001b[0m \u001b[0max\u001b[0m\u001b[1;33m.\u001b[0m\u001b[0m_reindex_non_unique\u001b[0m\u001b[1;33m(\u001b[0m\u001b[0mkeyarr\u001b[0m\u001b[1;33m)\u001b[0m\u001b[1;33m\u001b[0m\u001b[1;33m\u001b[0m\u001b[0m\n\u001b[0;32m   1253\u001b[0m \u001b[1;33m\u001b[0m\u001b[0m\n\u001b[1;32m-> 1254\u001b[1;33m         \u001b[0mself\u001b[0m\u001b[1;33m.\u001b[0m\u001b[0m_validate_read_indexer\u001b[0m\u001b[1;33m(\u001b[0m\u001b[0mkeyarr\u001b[0m\u001b[1;33m,\u001b[0m \u001b[0mindexer\u001b[0m\u001b[1;33m,\u001b[0m \u001b[0maxis\u001b[0m\u001b[1;33m,\u001b[0m \u001b[0mraise_missing\u001b[0m\u001b[1;33m=\u001b[0m\u001b[0mraise_missing\u001b[0m\u001b[1;33m)\u001b[0m\u001b[1;33m\u001b[0m\u001b[1;33m\u001b[0m\u001b[0m\n\u001b[0m\u001b[0;32m   1255\u001b[0m         \u001b[1;32mreturn\u001b[0m \u001b[0mkeyarr\u001b[0m\u001b[1;33m,\u001b[0m \u001b[0mindexer\u001b[0m\u001b[1;33m\u001b[0m\u001b[1;33m\u001b[0m\u001b[0m\n\u001b[0;32m   1256\u001b[0m \u001b[1;33m\u001b[0m\u001b[0m\n",
      "\u001b[1;32m~\\anaconda3\\lib\\site-packages\\pandas\\core\\indexing.py\u001b[0m in \u001b[0;36m_validate_read_indexer\u001b[1;34m(self, key, indexer, axis, raise_missing)\u001b[0m\n\u001b[0;32m   1296\u001b[0m             \u001b[1;32mif\u001b[0m \u001b[0mmissing\u001b[0m \u001b[1;33m==\u001b[0m \u001b[0mlen\u001b[0m\u001b[1;33m(\u001b[0m\u001b[0mindexer\u001b[0m\u001b[1;33m)\u001b[0m\u001b[1;33m:\u001b[0m\u001b[1;33m\u001b[0m\u001b[1;33m\u001b[0m\u001b[0m\n\u001b[0;32m   1297\u001b[0m                 \u001b[0maxis_name\u001b[0m \u001b[1;33m=\u001b[0m \u001b[0mself\u001b[0m\u001b[1;33m.\u001b[0m\u001b[0mobj\u001b[0m\u001b[1;33m.\u001b[0m\u001b[0m_get_axis_name\u001b[0m\u001b[1;33m(\u001b[0m\u001b[0maxis\u001b[0m\u001b[1;33m)\u001b[0m\u001b[1;33m\u001b[0m\u001b[1;33m\u001b[0m\u001b[0m\n\u001b[1;32m-> 1298\u001b[1;33m                 \u001b[1;32mraise\u001b[0m \u001b[0mKeyError\u001b[0m\u001b[1;33m(\u001b[0m\u001b[1;34mf\"None of [{key}] are in the [{axis_name}]\"\u001b[0m\u001b[1;33m)\u001b[0m\u001b[1;33m\u001b[0m\u001b[1;33m\u001b[0m\u001b[0m\n\u001b[0m\u001b[0;32m   1299\u001b[0m \u001b[1;33m\u001b[0m\u001b[0m\n\u001b[0;32m   1300\u001b[0m             \u001b[1;31m# We (temporarily) allow for some missing keys with .loc, except in\u001b[0m\u001b[1;33m\u001b[0m\u001b[1;33m\u001b[0m\u001b[1;33m\u001b[0m\u001b[0m\n",
      "\u001b[1;31mKeyError\u001b[0m: \"None of [Int64Index([  27,   38,   40,   41,   47,   58,   60,   70,   82,   99,\\n            ...\\n            1069, 1070, 1071, 1072, 1073, 1074, 1075, 1076, 1077, 1078],\\n           dtype='int64', length=863)] are in the [columns]\""
     ]
    }
   ],
   "source": [
    "from sklearn.model_selection import StratifiedKFold\n",
    "from sklearn.base import clone\n",
    "from sklearn.metrics import precision_score, recall_score\n",
    "\n",
    "skfolds = StratifiedKFold(n_splits=5)\n",
    "\n",
    "for train_index, test_index in skfolds.split(nhl_season_data, nhl_season_data_labels):\n",
    "    clone_clf = clone(clf)\n",
    "    X_train_folds = nhl_season_data[train_index]\n",
    "    y_train_folds = (nhl_season_data_labels[train_index])\n",
    "    X_test_fold = nhl_season_data[test_index]\n",
    "    y_test_fold = (nhl_season_data_labels[test_index])\n",
    "    \n",
    "    clone_clf.fit(X_train_folds, y_train_folds)\n",
    "    y_pred = clone_clf.predict(X_test_fold)\n",
    "    n_correct = sum(y_pred == y_test_fold)\n",
    "    print(n_correct / len(y_pred))\n",
    "    print(recall_score(y_test_fold, y_pred))"
   ]
  },
  {
   "cell_type": "code",
   "execution_count": 22,
   "metadata": {},
   "outputs": [
    {
     "data": {
      "text/plain": [
       "array([0.96296296, 0.96296296, 0.96296296, 0.96296296, 0.96296296,\n",
       "       0.96296296, 0.9537037 , 0.9537037 , 0.9537037 , 0.96261682])"
      ]
     },
     "execution_count": 22,
     "metadata": {},
     "output_type": "execute_result"
    }
   ],
   "source": [
    "from sklearn.model_selection import cross_val_score\n",
    "\n",
    "cross_val_score(clf, nhl_season_data, nhl_season_data_labels, cv=10, scoring=\"accuracy\")"
   ]
  },
  {
   "cell_type": "code",
   "execution_count": 23,
   "metadata": {},
   "outputs": [],
   "source": [
    "from sklearn.model_selection import cross_val_predict\n",
    "\n",
    "y_train_pred = cross_val_predict(clf, nhl_season_data, nhl_season_data_labels, cv=10)"
   ]
  },
  {
   "cell_type": "code",
   "execution_count": 24,
   "metadata": {},
   "outputs": [
    {
     "data": {
      "text/plain": [
       "array([[1036,    0],\n",
       "       [  43,    0]], dtype=int64)"
      ]
     },
     "execution_count": 24,
     "metadata": {},
     "output_type": "execute_result"
    }
   ],
   "source": [
    "from sklearn.metrics import confusion_matrix\n",
    "\n",
    "confusion_matrix(nhl_season_data_labels, y_train_pred)"
   ]
  },
  {
   "cell_type": "code",
   "execution_count": 23,
   "metadata": {},
   "outputs": [],
   "source": [
    "from sklearn.model_selection import GridSearchCV\n",
    "parameters = [{'kernel': ['rbf'], 'gamma': [1e-3, 1e-2],\n",
    "                     'C': [1, 1000, 10000, 100000]},\n",
    "                    {'kernel': ['linear'], 'C': [1, 1000, 10000, 100000]}]\n",
    "\n",
    "SVC = GridSearchCV(estimator=SVC(), param_grid=parameters)"
   ]
  },
  {
   "cell_type": "code",
   "execution_count": 24,
   "metadata": {},
   "outputs": [
    {
     "name": "stdout",
     "output_type": "stream",
     "text": [
      "{'C': 1, 'gamma': 0.001, 'kernel': 'rbf'}\n"
     ]
    }
   ],
   "source": [
    "SVC.fit(scaled_nhl_season_data, nhl_season_data_labels)\n",
    "print(SVC.best_params_)"
   ]
  },
  {
   "cell_type": "code",
   "execution_count": 33,
   "metadata": {},
   "outputs": [
    {
     "data": {
      "text/plain": [
       "LogisticRegression()"
      ]
     },
     "execution_count": 33,
     "metadata": {},
     "output_type": "execute_result"
    }
   ],
   "source": [
    "from sklearn.linear_model import LogisticRegression\n",
    "\n",
    "log_reg = LogisticRegression()\n",
    "log_reg.fit(scaled_nhl_season_data, nhl_season_data_labels)"
   ]
  },
  {
   "cell_type": "code",
   "execution_count": 38,
   "metadata": {},
   "outputs": [
    {
     "data": {
      "text/plain": [
       "array([1, 1, 1, 1, 1, 1, 1, 1, 1, 1, 1, 1, 1, 1, 1, 1, 1, 1, 1, 1, 1, 1,\n",
       "       1, 1, 1, 1, 1, 1, 1, 1, 1], dtype=int64)"
      ]
     },
     "execution_count": 38,
     "metadata": {},
     "output_type": "execute_result"
    }
   ],
   "source": [
    "log_reg.predict(X)"
   ]
  },
  {
   "cell_type": "code",
   "execution_count": 39,
   "metadata": {},
   "outputs": [
    {
     "data": {
      "text/plain": [
       "array([[0., 1.],\n",
       "       [0., 1.],\n",
       "       [0., 1.],\n",
       "       [0., 1.],\n",
       "       [0., 1.],\n",
       "       [0., 1.],\n",
       "       [0., 1.],\n",
       "       [0., 1.],\n",
       "       [0., 1.],\n",
       "       [0., 1.],\n",
       "       [0., 1.],\n",
       "       [0., 1.],\n",
       "       [0., 1.],\n",
       "       [0., 1.],\n",
       "       [0., 1.],\n",
       "       [0., 1.],\n",
       "       [0., 1.],\n",
       "       [0., 1.],\n",
       "       [0., 1.],\n",
       "       [0., 1.],\n",
       "       [0., 1.],\n",
       "       [0., 1.],\n",
       "       [0., 1.],\n",
       "       [0., 1.],\n",
       "       [0., 1.],\n",
       "       [0., 1.],\n",
       "       [0., 1.],\n",
       "       [0., 1.],\n",
       "       [0., 1.],\n",
       "       [0., 1.],\n",
       "       [0., 1.]])"
      ]
     },
     "execution_count": 39,
     "metadata": {},
     "output_type": "execute_result"
    }
   ],
   "source": [
    "log_reg.predict_proba(X)"
   ]
  },
  {
   "cell_type": "code",
   "execution_count": null,
   "metadata": {},
   "outputs": [],
   "source": []
  }
 ],
 "metadata": {
  "kernelspec": {
   "display_name": "Python 3",
   "language": "python",
   "name": "python3"
  },
  "language_info": {
   "codemirror_mode": {
    "name": "ipython",
    "version": 3
   },
   "file_extension": ".py",
   "mimetype": "text/x-python",
   "name": "python",
   "nbconvert_exporter": "python",
   "pygments_lexer": "ipython3",
   "version": "3.8.5"
  }
 },
 "nbformat": 4,
 "nbformat_minor": 4
}
