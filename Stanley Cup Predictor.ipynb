{
 "cells": [
  {
   "cell_type": "code",
   "execution_count": 1,
   "metadata": {},
   "outputs": [
    {
     "name": "stdout",
     "output_type": "stream",
     "text": [
      "C:\\Users\\USER\\Stanley Cup Winner Predictor\n"
     ]
    }
   ],
   "source": [
    "import os\n",
    "import tarfile\n",
    "import pandas as pd\n",
    "cwd = os.getcwd()\n",
    "print(cwd)"
   ]
  },
  {
   "cell_type": "code",
   "execution_count": 2,
   "metadata": {},
   "outputs": [],
   "source": [
    "NHL_SEASON_DATA_PATH = 'nhl_season_data'\n",
    "\n",
    "def load_nhl_data(nhl_season_data_path=NHL_SEASON_DATA_PATH):\n",
    "    csv_path = os.path.join(nhl_season_data_path, 'teamHistoricalStats.csv')\n",
    "    return pd.read_csv(csv_path, encoding = \"ISO-8859-1\")\n",
    "\n",
    "def load_current_nhl_data(nhl_season_data_path=NHL_SEASON_DATA_PATH):\n",
    "    csv_path = os.path.join(nhl_season_data_path, 'teamCurrentStats.csv')\n",
    "    return pd.read_csv(csv_path, encoding = \"ISO-8859-1\")"
   ]
  },
  {
   "cell_type": "code",
   "execution_count": 3,
   "metadata": {},
   "outputs": [],
   "source": [
    "nhl_season_data = load_nhl_data()\n",
    "X = load_current_nhl_data()"
   ]
  },
  {
   "cell_type": "code",
   "execution_count": 4,
   "metadata": {},
   "outputs": [
    {
     "data": {
      "text/html": [
       "<div>\n",
       "<style scoped>\n",
       "    .dataframe tbody tr th:only-of-type {\n",
       "        vertical-align: middle;\n",
       "    }\n",
       "\n",
       "    .dataframe tbody tr th {\n",
       "        vertical-align: top;\n",
       "    }\n",
       "\n",
       "    .dataframe thead th {\n",
       "        text-align: right;\n",
       "    }\n",
       "</style>\n",
       "<table border=\"1\" class=\"dataframe\">\n",
       "  <thead>\n",
       "    <tr style=\"text-align: right;\">\n",
       "      <th></th>\n",
       "      <th>P%</th>\n",
       "      <th>GF/GP</th>\n",
       "      <th>GA/GP</th>\n",
       "      <th>Net PP%</th>\n",
       "      <th>Net PK%</th>\n",
       "      <th>Shots/GP</th>\n",
       "      <th>SA/GP</th>\n",
       "      <th>WinStanleyCup</th>\n",
       "    </tr>\n",
       "  </thead>\n",
       "  <tbody>\n",
       "    <tr>\n",
       "      <th>0</th>\n",
       "      <td>0.799</td>\n",
       "      <td>3.96</td>\n",
       "      <td>2.21</td>\n",
       "      <td>19.3</td>\n",
       "      <td>92.8</td>\n",
       "      <td>32.3</td>\n",
       "      <td>24.2</td>\n",
       "      <td>0</td>\n",
       "    </tr>\n",
       "    <tr>\n",
       "      <th>1</th>\n",
       "      <td>0.806</td>\n",
       "      <td>4.49</td>\n",
       "      <td>2.29</td>\n",
       "      <td>31.4</td>\n",
       "      <td>85.3</td>\n",
       "      <td>32.8</td>\n",
       "      <td>25.9</td>\n",
       "      <td>1</td>\n",
       "    </tr>\n",
       "    <tr>\n",
       "      <th>2</th>\n",
       "      <td>0.780</td>\n",
       "      <td>3.89</td>\n",
       "      <td>2.70</td>\n",
       "      <td>27.1</td>\n",
       "      <td>89.5</td>\n",
       "      <td>32.0</td>\n",
       "      <td>32.1</td>\n",
       "      <td>0</td>\n",
       "    </tr>\n",
       "    <tr>\n",
       "      <th>3</th>\n",
       "      <td>0.756</td>\n",
       "      <td>3.67</td>\n",
       "      <td>2.51</td>\n",
       "      <td>20.0</td>\n",
       "      <td>87.0</td>\n",
       "      <td>34.1</td>\n",
       "      <td>26.6</td>\n",
       "      <td>0</td>\n",
       "    </tr>\n",
       "    <tr>\n",
       "      <th>4</th>\n",
       "      <td>0.738</td>\n",
       "      <td>3.82</td>\n",
       "      <td>2.77</td>\n",
       "      <td>22.7</td>\n",
       "      <td>80.1</td>\n",
       "      <td>32.8</td>\n",
       "      <td>30.9</td>\n",
       "      <td>0</td>\n",
       "    </tr>\n",
       "  </tbody>\n",
       "</table>\n",
       "</div>"
      ],
      "text/plain": [
       "      P%  GF/GP  GA/GP  Net PP%  Net PK%  Shots/GP  SA/GP  WinStanleyCup\n",
       "0  0.799   3.96   2.21     19.3     92.8      32.3   24.2              0\n",
       "1  0.806   4.49   2.29     31.4     85.3      32.8   25.9              1\n",
       "2  0.780   3.89   2.70     27.1     89.5      32.0   32.1              0\n",
       "3  0.756   3.67   2.51     20.0     87.0      34.1   26.6              0\n",
       "4  0.738   3.82   2.77     22.7     80.1      32.8   30.9              0"
      ]
     },
     "execution_count": 4,
     "metadata": {},
     "output_type": "execute_result"
    }
   ],
   "source": [
    "nhl_season_data.head()"
   ]
  },
  {
   "cell_type": "code",
   "execution_count": 5,
   "metadata": {},
   "outputs": [
    {
     "name": "stdout",
     "output_type": "stream",
     "text": [
      "<class 'pandas.core.frame.DataFrame'>\n",
      "RangeIndex: 1110 entries, 0 to 1109\n",
      "Data columns (total 8 columns):\n",
      " #   Column         Non-Null Count  Dtype  \n",
      "---  ------         --------------  -----  \n",
      " 0   P%             1110 non-null   float64\n",
      " 1   GF/GP          1110 non-null   float64\n",
      " 2   GA/GP          1110 non-null   float64\n",
      " 3   Net PP%        1110 non-null   float64\n",
      " 4   Net PK%        1110 non-null   float64\n",
      " 5   Shots/GP       1110 non-null   float64\n",
      " 6   SA/GP          1110 non-null   float64\n",
      " 7   WinStanleyCup  1110 non-null   int64  \n",
      "dtypes: float64(7), int64(1)\n",
      "memory usage: 69.5 KB\n"
     ]
    }
   ],
   "source": [
    "nhl_season_data.info()"
   ]
  },
  {
   "cell_type": "code",
   "execution_count": null,
   "metadata": {},
   "outputs": [],
   "source": [
    "nhl_season_data['Team'].value_counts()"
   ]
  },
  {
   "cell_type": "code",
   "execution_count": 6,
   "metadata": {},
   "outputs": [
    {
     "data": {
      "text/html": [
       "<div>\n",
       "<style scoped>\n",
       "    .dataframe tbody tr th:only-of-type {\n",
       "        vertical-align: middle;\n",
       "    }\n",
       "\n",
       "    .dataframe tbody tr th {\n",
       "        vertical-align: top;\n",
       "    }\n",
       "\n",
       "    .dataframe thead th {\n",
       "        text-align: right;\n",
       "    }\n",
       "</style>\n",
       "<table border=\"1\" class=\"dataframe\">\n",
       "  <thead>\n",
       "    <tr style=\"text-align: right;\">\n",
       "      <th></th>\n",
       "      <th>P%</th>\n",
       "      <th>GF/GP</th>\n",
       "      <th>GA/GP</th>\n",
       "      <th>Net PP%</th>\n",
       "      <th>Net PK%</th>\n",
       "      <th>Shots/GP</th>\n",
       "      <th>SA/GP</th>\n",
       "      <th>WinStanleyCup</th>\n",
       "    </tr>\n",
       "  </thead>\n",
       "  <tbody>\n",
       "    <tr>\n",
       "      <th>count</th>\n",
       "      <td>1110.000000</td>\n",
       "      <td>1110.000000</td>\n",
       "      <td>1110.000000</td>\n",
       "      <td>1110.000000</td>\n",
       "      <td>1110.000000</td>\n",
       "      <td>1110.000000</td>\n",
       "      <td>1110.000000</td>\n",
       "      <td>1110.000000</td>\n",
       "    </tr>\n",
       "    <tr>\n",
       "      <th>mean</th>\n",
       "      <td>0.531388</td>\n",
       "      <td>3.075973</td>\n",
       "      <td>3.059757</td>\n",
       "      <td>16.342703</td>\n",
       "      <td>83.759099</td>\n",
       "      <td>29.816937</td>\n",
       "      <td>29.772613</td>\n",
       "      <td>0.039640</td>\n",
       "    </tr>\n",
       "    <tr>\n",
       "      <th>std</th>\n",
       "      <td>0.099447</td>\n",
       "      <td>0.576596</td>\n",
       "      <td>0.586514</td>\n",
       "      <td>3.664057</td>\n",
       "      <td>3.711773</td>\n",
       "      <td>2.158424</td>\n",
       "      <td>2.571647</td>\n",
       "      <td>0.195199</td>\n",
       "    </tr>\n",
       "    <tr>\n",
       "      <th>min</th>\n",
       "      <td>0.238000</td>\n",
       "      <td>1.830000</td>\n",
       "      <td>1.890000</td>\n",
       "      <td>4.800000</td>\n",
       "      <td>70.200000</td>\n",
       "      <td>23.700000</td>\n",
       "      <td>22.100000</td>\n",
       "      <td>0.000000</td>\n",
       "    </tr>\n",
       "    <tr>\n",
       "      <th>25%</th>\n",
       "      <td>0.463000</td>\n",
       "      <td>2.650000</td>\n",
       "      <td>2.620000</td>\n",
       "      <td>13.800000</td>\n",
       "      <td>81.525000</td>\n",
       "      <td>28.400000</td>\n",
       "      <td>28.200000</td>\n",
       "      <td>0.000000</td>\n",
       "    </tr>\n",
       "    <tr>\n",
       "      <th>50%</th>\n",
       "      <td>0.538000</td>\n",
       "      <td>2.950000</td>\n",
       "      <td>2.950000</td>\n",
       "      <td>16.100000</td>\n",
       "      <td>84.100000</td>\n",
       "      <td>29.900000</td>\n",
       "      <td>29.800000</td>\n",
       "      <td>0.000000</td>\n",
       "    </tr>\n",
       "    <tr>\n",
       "      <th>75%</th>\n",
       "      <td>0.604000</td>\n",
       "      <td>3.437500</td>\n",
       "      <td>3.400000</td>\n",
       "      <td>18.800000</td>\n",
       "      <td>86.300000</td>\n",
       "      <td>31.300000</td>\n",
       "      <td>31.575000</td>\n",
       "      <td>0.000000</td>\n",
       "    </tr>\n",
       "    <tr>\n",
       "      <th>max</th>\n",
       "      <td>0.806000</td>\n",
       "      <td>5.580000</td>\n",
       "      <td>5.190000</td>\n",
       "      <td>31.400000</td>\n",
       "      <td>95.400000</td>\n",
       "      <td>36.800000</td>\n",
       "      <td>37.000000</td>\n",
       "      <td>1.000000</td>\n",
       "    </tr>\n",
       "  </tbody>\n",
       "</table>\n",
       "</div>"
      ],
      "text/plain": [
       "                P%        GF/GP        GA/GP      Net PP%      Net PK%  \\\n",
       "count  1110.000000  1110.000000  1110.000000  1110.000000  1110.000000   \n",
       "mean      0.531388     3.075973     3.059757    16.342703    83.759099   \n",
       "std       0.099447     0.576596     0.586514     3.664057     3.711773   \n",
       "min       0.238000     1.830000     1.890000     4.800000    70.200000   \n",
       "25%       0.463000     2.650000     2.620000    13.800000    81.525000   \n",
       "50%       0.538000     2.950000     2.950000    16.100000    84.100000   \n",
       "75%       0.604000     3.437500     3.400000    18.800000    86.300000   \n",
       "max       0.806000     5.580000     5.190000    31.400000    95.400000   \n",
       "\n",
       "          Shots/GP        SA/GP  WinStanleyCup  \n",
       "count  1110.000000  1110.000000    1110.000000  \n",
       "mean     29.816937    29.772613       0.039640  \n",
       "std       2.158424     2.571647       0.195199  \n",
       "min      23.700000    22.100000       0.000000  \n",
       "25%      28.400000    28.200000       0.000000  \n",
       "50%      29.900000    29.800000       0.000000  \n",
       "75%      31.300000    31.575000       0.000000  \n",
       "max      36.800000    37.000000       1.000000  "
      ]
     },
     "execution_count": 6,
     "metadata": {},
     "output_type": "execute_result"
    }
   ],
   "source": [
    "nhl_season_data.describe()"
   ]
  },
  {
   "cell_type": "code",
   "execution_count": 7,
   "metadata": {},
   "outputs": [
    {
     "data": {
      "image/png": "[encoded data removed]",
      "text/plain": [
       "<Figure size 1440x1080 with 9 Axes>"
      ]
     },
     "metadata": {
      "needs_background": "light"
     },
     "output_type": "display_data"
    }
   ],
   "source": [
    "%matplotlib inline\n",
    "import matplotlib.pyplot as plt\n",
    "nhl_season_data.hist(bins=50, figsize=(20,15))\n",
    "plt.show()"
   ]
  },
  {
   "cell_type": "code",
   "execution_count": 8,
   "metadata": {},
   "outputs": [],
   "source": [
    "corr_matrix = nhl_season_data.corr()"
   ]
  },
  {
   "cell_type": "code",
   "execution_count": 9,
   "metadata": {},
   "outputs": [
    {
     "data": {
      "text/html": [
       "<div>\n",
       "<style scoped>\n",
       "    .dataframe tbody tr th:only-of-type {\n",
       "        vertical-align: middle;\n",
       "    }\n",
       "\n",
       "    .dataframe tbody tr th {\n",
       "        vertical-align: top;\n",
       "    }\n",
       "\n",
       "    .dataframe thead th {\n",
       "        text-align: right;\n",
       "    }\n",
       "</style>\n",
       "<table border=\"1\" class=\"dataframe\">\n",
       "  <thead>\n",
       "    <tr style=\"text-align: right;\">\n",
       "      <th></th>\n",
       "      <th>P%</th>\n",
       "      <th>GF/GP</th>\n",
       "      <th>GA/GP</th>\n",
       "      <th>Net PP%</th>\n",
       "      <th>Net PK%</th>\n",
       "      <th>Shots/GP</th>\n",
       "      <th>SA/GP</th>\n",
       "      <th>WinStanleyCup</th>\n",
       "    </tr>\n",
       "  </thead>\n",
       "  <tbody>\n",
       "    <tr>\n",
       "      <th>P%</th>\n",
       "      <td>1.000000</td>\n",
       "      <td>0.308792</td>\n",
       "      <td>-0.616562</td>\n",
       "      <td>0.420212</td>\n",
       "      <td>0.487351</td>\n",
       "      <td>0.410556</td>\n",
       "      <td>-0.424772</td>\n",
       "      <td>0.239500</td>\n",
       "    </tr>\n",
       "    <tr>\n",
       "      <th>GF/GP</th>\n",
       "      <td>0.308792</td>\n",
       "      <td>1.000000</td>\n",
       "      <td>0.489691</td>\n",
       "      <td>0.638752</td>\n",
       "      <td>-0.142657</td>\n",
       "      <td>0.462692</td>\n",
       "      <td>0.064350</td>\n",
       "      <td>0.172307</td>\n",
       "    </tr>\n",
       "    <tr>\n",
       "      <th>GA/GP</th>\n",
       "      <td>-0.616562</td>\n",
       "      <td>0.489691</td>\n",
       "      <td>1.000000</td>\n",
       "      <td>0.129211</td>\n",
       "      <td>-0.650664</td>\n",
       "      <td>0.040357</td>\n",
       "      <td>0.538436</td>\n",
       "      <td>-0.094980</td>\n",
       "    </tr>\n",
       "    <tr>\n",
       "      <th>Net PP%</th>\n",
       "      <td>0.420212</td>\n",
       "      <td>0.638752</td>\n",
       "      <td>0.129211</td>\n",
       "      <td>1.000000</td>\n",
       "      <td>-0.099868</td>\n",
       "      <td>0.405981</td>\n",
       "      <td>-0.016585</td>\n",
       "      <td>0.135935</td>\n",
       "    </tr>\n",
       "    <tr>\n",
       "      <th>Net PK%</th>\n",
       "      <td>0.487351</td>\n",
       "      <td>-0.142657</td>\n",
       "      <td>-0.650664</td>\n",
       "      <td>-0.099868</td>\n",
       "      <td>1.000000</td>\n",
       "      <td>-0.010584</td>\n",
       "      <td>-0.417851</td>\n",
       "      <td>0.130925</td>\n",
       "    </tr>\n",
       "    <tr>\n",
       "      <th>Shots/GP</th>\n",
       "      <td>0.410556</td>\n",
       "      <td>0.462692</td>\n",
       "      <td>0.040357</td>\n",
       "      <td>0.405981</td>\n",
       "      <td>-0.010584</td>\n",
       "      <td>1.000000</td>\n",
       "      <td>-0.024836</td>\n",
       "      <td>0.141370</td>\n",
       "    </tr>\n",
       "    <tr>\n",
       "      <th>SA/GP</th>\n",
       "      <td>-0.424772</td>\n",
       "      <td>0.064350</td>\n",
       "      <td>0.538436</td>\n",
       "      <td>-0.016585</td>\n",
       "      <td>-0.417851</td>\n",
       "      <td>-0.024836</td>\n",
       "      <td>1.000000</td>\n",
       "      <td>-0.110104</td>\n",
       "    </tr>\n",
       "    <tr>\n",
       "      <th>WinStanleyCup</th>\n",
       "      <td>0.239500</td>\n",
       "      <td>0.172307</td>\n",
       "      <td>-0.094980</td>\n",
       "      <td>0.135935</td>\n",
       "      <td>0.130925</td>\n",
       "      <td>0.141370</td>\n",
       "      <td>-0.110104</td>\n",
       "      <td>1.000000</td>\n",
       "    </tr>\n",
       "  </tbody>\n",
       "</table>\n",
       "</div>"
      ],
      "text/plain": [
       "                     P%     GF/GP     GA/GP   Net PP%   Net PK%  Shots/GP  \\\n",
       "P%             1.000000  0.308792 -0.616562  0.420212  0.487351  0.410556   \n",
       "GF/GP          0.308792  1.000000  0.489691  0.638752 -0.142657  0.462692   \n",
       "GA/GP         -0.616562  0.489691  1.000000  0.129211 -0.650664  0.040357   \n",
       "Net PP%        0.420212  0.638752  0.129211  1.000000 -0.099868  0.405981   \n",
       "Net PK%        0.487351 -0.142657 -0.650664 -0.099868  1.000000 -0.010584   \n",
       "Shots/GP       0.410556  0.462692  0.040357  0.405981 -0.010584  1.000000   \n",
       "SA/GP         -0.424772  0.064350  0.538436 -0.016585 -0.417851 -0.024836   \n",
       "WinStanleyCup  0.239500  0.172307 -0.094980  0.135935  0.130925  0.141370   \n",
       "\n",
       "                  SA/GP  WinStanleyCup  \n",
       "P%            -0.424772       0.239500  \n",
       "GF/GP          0.064350       0.172307  \n",
       "GA/GP          0.538436      -0.094980  \n",
       "Net PP%       -0.016585       0.135935  \n",
       "Net PK%       -0.417851       0.130925  \n",
       "Shots/GP      -0.024836       0.141370  \n",
       "SA/GP          1.000000      -0.110104  \n",
       "WinStanleyCup -0.110104       1.000000  "
      ]
     },
     "execution_count": 9,
     "metadata": {},
     "output_type": "execute_result"
    }
   ],
   "source": [
    "corr_matrix"
   ]
  },
  {
   "cell_type": "code",
   "execution_count": 10,
   "metadata": {},
   "outputs": [],
   "source": [
    "nhl_season_data_labels = nhl_season_data['WinStanleyCup'].copy()\n",
    "nhl_season_data = nhl_season_data.drop('WinStanleyCup', axis=1)"
   ]
  },
  {
   "cell_type": "code",
   "execution_count": 11,
   "metadata": {},
   "outputs": [
    {
     "name": "stdout",
     "output_type": "stream",
     "text": [
      "<class 'pandas.core.frame.DataFrame'>\n",
      "RangeIndex: 1110 entries, 0 to 1109\n",
      "Data columns (total 7 columns):\n",
      " #   Column    Non-Null Count  Dtype  \n",
      "---  ------    --------------  -----  \n",
      " 0   P%        1110 non-null   float64\n",
      " 1   GF/GP     1110 non-null   float64\n",
      " 2   GA/GP     1110 non-null   float64\n",
      " 3   Net PP%   1110 non-null   float64\n",
      " 4   Net PK%   1110 non-null   float64\n",
      " 5   Shots/GP  1110 non-null   float64\n",
      " 6   SA/GP     1110 non-null   float64\n",
      "dtypes: float64(7)\n",
      "memory usage: 60.8 KB\n"
     ]
    }
   ],
   "source": [
    "nhl_season_data.info()"
   ]
  },
  {
   "cell_type": "code",
   "execution_count": null,
   "metadata": {},
   "outputs": [],
   "source": [
    "\n",
    "nhl_season_data = nhl_season_data.drop('TeamID', axis=1)\n",
    "nhl_season_data = nhl_season_data.drop('Team', axis=1)\n",
    "nhl_season_data = nhl_season_data.drop('SeasonCropped', axis=1)"
   ]
  },
  {
   "cell_type": "code",
   "execution_count": 12,
   "metadata": {},
   "outputs": [
    {
     "name": "stdout",
     "output_type": "stream",
     "text": [
      "<class 'pandas.core.frame.DataFrame'>\n",
      "RangeIndex: 1110 entries, 0 to 1109\n",
      "Data columns (total 7 columns):\n",
      " #   Column    Non-Null Count  Dtype  \n",
      "---  ------    --------------  -----  \n",
      " 0   P%        1110 non-null   float64\n",
      " 1   GF/GP     1110 non-null   float64\n",
      " 2   GA/GP     1110 non-null   float64\n",
      " 3   Net PP%   1110 non-null   float64\n",
      " 4   Net PK%   1110 non-null   float64\n",
      " 5   Shots/GP  1110 non-null   float64\n",
      " 6   SA/GP     1110 non-null   float64\n",
      "dtypes: float64(7)\n",
      "memory usage: 60.8 KB\n"
     ]
    }
   ],
   "source": [
    "nhl_season_data.info()"
   ]
  },
  {
   "cell_type": "code",
   "execution_count": 13,
   "metadata": {},
   "outputs": [],
   "source": [
    "from sklearn.preprocessing import MinMaxScaler\n",
    "scaler = MinMaxScaler()\n",
    "scaled_nhl_season_data = scaler.fit_transform(nhl_season_data)\n",
    "#now the data is a numpy array and has no column headers"
   ]
  },
  {
   "cell_type": "code",
   "execution_count": 14,
   "metadata": {},
   "outputs": [
    {
     "name": "stdout",
     "output_type": "stream",
     "text": [
      "[[0.98767606 0.568      0.0969697  ... 0.8968254  0.65648855 0.1409396 ]\n",
      " [1.         0.70933333 0.12121212 ... 0.59920635 0.69465649 0.25503356]\n",
      " [0.95422535 0.54933333 0.24545455 ... 0.76587302 0.63358779 0.67114094]\n",
      " ...\n",
      " [0.28873239 0.20266667 0.45151515 ... 0.11111111 0.38931298 0.59731544]\n",
      " [0.25704225 0.10133333 0.38484848 ... 0.43253968 0.23664122 0.5704698 ]\n",
      " [0.16197183 0.14933333 0.48787879 ... 0.44047619 0.35877863 0.77852349]]\n"
     ]
    }
   ],
   "source": [
    "print(scaled_nhl_season_data)"
   ]
  },
  {
   "cell_type": "code",
   "execution_count": 15,
   "metadata": {},
   "outputs": [
    {
     "data": {
      "text/plain": [
       "SVC(C=1, gamma=0.001, probability=True)"
      ]
     },
     "execution_count": 15,
     "metadata": {},
     "output_type": "execute_result"
    }
   ],
   "source": [
    "from sklearn.svm import SVC\n",
    "clf = SVC(C=1, gamma=0.001, kernel='rbf', probability=True)\n",
    "clf.fit(nhl_season_data, nhl_season_data_labels)"
   ]
  },
  {
   "cell_type": "code",
   "execution_count": 16,
   "metadata": {},
   "outputs": [
    {
     "name": "stdout",
     "output_type": "stream",
     "text": [
      "[[0.96718814 0.03281186]\n",
      " [0.95973887 0.04026113]\n",
      " [0.97086189 0.02913811]\n",
      " [0.93645408 0.06354592]\n",
      " [0.94864248 0.05135752]\n",
      " [0.97649223 0.02350777]\n",
      " [0.94591216 0.05408784]\n",
      " [0.9631412  0.0368588 ]\n",
      " [0.9633059  0.0366941 ]\n",
      " [0.95171992 0.04828008]\n",
      " [0.9696893  0.0303107 ]\n",
      " [0.9372454  0.0627546 ]\n",
      " [0.9594751  0.0405249 ]\n",
      " [0.96509984 0.03490016]\n",
      " [0.96988915 0.03011085]\n",
      " [0.94708521 0.05291479]\n",
      " [0.9556147  0.0443853 ]\n",
      " [0.98040457 0.01959543]\n",
      " [0.9637966  0.0362034 ]\n",
      " [0.94272664 0.05727336]\n",
      " [0.948491   0.051509  ]\n",
      " [0.96392295 0.03607705]\n",
      " [0.94531537 0.05468463]\n",
      " [0.96073242 0.03926758]\n",
      " [0.95632735 0.04367265]\n",
      " [0.94357505 0.05642495]\n",
      " [0.93647441 0.06352559]\n",
      " [0.93775563 0.06224437]\n",
      " [0.97876334 0.02123666]\n",
      " [0.97260831 0.02739169]\n",
      " [0.99185527 0.00814473]\n",
      " [0.98518005 0.01481995]]\n"
     ]
    }
   ],
   "source": [
    "import numpy as np\n",
    "clf.predict(X)\n",
    "probs = clf.predict_proba(X)\n",
    "print(probs)"
   ]
  },
  {
   "cell_type": "code",
   "execution_count": 17,
   "metadata": {},
   "outputs": [
    {
     "ename": "KeyError",
     "evalue": "\"None of [Int64Index([  27,   38,   40,   41,   47,   58,   60,   70,   82,   99,\\n            ...\\n            1100, 1101, 1102, 1103, 1104, 1105, 1106, 1107, 1108, 1109],\\n           dtype='int64', length=888)] are in the [columns]\"",
     "output_type": "error",
     "traceback": [
      "\u001b[1;31m---------------------------------------------------------------------------\u001b[0m",
      "\u001b[1;31mKeyError\u001b[0m                                  Traceback (most recent call last)",
      "\u001b[1;32m<ipython-input-17-58436e307353>\u001b[0m in \u001b[0;36m<module>\u001b[1;34m\u001b[0m\n\u001b[0;32m      7\u001b[0m \u001b[1;32mfor\u001b[0m \u001b[0mtrain_index\u001b[0m\u001b[1;33m,\u001b[0m \u001b[0mtest_index\u001b[0m \u001b[1;32min\u001b[0m \u001b[0mskfolds\u001b[0m\u001b[1;33m.\u001b[0m\u001b[0msplit\u001b[0m\u001b[1;33m(\u001b[0m\u001b[0mnhl_season_data\u001b[0m\u001b[1;33m,\u001b[0m \u001b[0mnhl_season_data_labels\u001b[0m\u001b[1;33m)\u001b[0m\u001b[1;33m:\u001b[0m\u001b[1;33m\u001b[0m\u001b[1;33m\u001b[0m\u001b[0m\n\u001b[0;32m      8\u001b[0m     \u001b[0mclone_clf\u001b[0m \u001b[1;33m=\u001b[0m \u001b[0mclone\u001b[0m\u001b[1;33m(\u001b[0m\u001b[0mclf\u001b[0m\u001b[1;33m)\u001b[0m\u001b[1;33m\u001b[0m\u001b[1;33m\u001b[0m\u001b[0m\n\u001b[1;32m----> 9\u001b[1;33m     \u001b[0mX_train_folds\u001b[0m \u001b[1;33m=\u001b[0m \u001b[0mnhl_season_data\u001b[0m\u001b[1;33m[\u001b[0m\u001b[0mtrain_index\u001b[0m\u001b[1;33m]\u001b[0m\u001b[1;33m\u001b[0m\u001b[1;33m\u001b[0m\u001b[0m\n\u001b[0m\u001b[0;32m     10\u001b[0m     \u001b[0my_train_folds\u001b[0m \u001b[1;33m=\u001b[0m \u001b[1;33m(\u001b[0m\u001b[0mnhl_season_data_labels\u001b[0m\u001b[1;33m[\u001b[0m\u001b[0mtrain_index\u001b[0m\u001b[1;33m]\u001b[0m\u001b[1;33m)\u001b[0m\u001b[1;33m\u001b[0m\u001b[1;33m\u001b[0m\u001b[0m\n\u001b[0;32m     11\u001b[0m     \u001b[0mX_test_fold\u001b[0m \u001b[1;33m=\u001b[0m \u001b[0mnhl_season_data\u001b[0m\u001b[1;33m[\u001b[0m\u001b[0mtest_index\u001b[0m\u001b[1;33m]\u001b[0m\u001b[1;33m\u001b[0m\u001b[1;33m\u001b[0m\u001b[0m\n",
      "\u001b[1;32m~\\anaconda3\\lib\\site-packages\\pandas\\core\\frame.py\u001b[0m in \u001b[0;36m__getitem__\u001b[1;34m(self, key)\u001b[0m\n\u001b[0;32m   2906\u001b[0m             \u001b[1;32mif\u001b[0m \u001b[0mis_iterator\u001b[0m\u001b[1;33m(\u001b[0m\u001b[0mkey\u001b[0m\u001b[1;33m)\u001b[0m\u001b[1;33m:\u001b[0m\u001b[1;33m\u001b[0m\u001b[1;33m\u001b[0m\u001b[0m\n\u001b[0;32m   2907\u001b[0m                 \u001b[0mkey\u001b[0m \u001b[1;33m=\u001b[0m \u001b[0mlist\u001b[0m\u001b[1;33m(\u001b[0m\u001b[0mkey\u001b[0m\u001b[1;33m)\u001b[0m\u001b[1;33m\u001b[0m\u001b[1;33m\u001b[0m\u001b[0m\n\u001b[1;32m-> 2908\u001b[1;33m             \u001b[0mindexer\u001b[0m \u001b[1;33m=\u001b[0m \u001b[0mself\u001b[0m\u001b[1;33m.\u001b[0m\u001b[0mloc\u001b[0m\u001b[1;33m.\u001b[0m\u001b[0m_get_listlike_indexer\u001b[0m\u001b[1;33m(\u001b[0m\u001b[0mkey\u001b[0m\u001b[1;33m,\u001b[0m \u001b[0maxis\u001b[0m\u001b[1;33m=\u001b[0m\u001b[1;36m1\u001b[0m\u001b[1;33m,\u001b[0m \u001b[0mraise_missing\u001b[0m\u001b[1;33m=\u001b[0m\u001b[1;32mTrue\u001b[0m\u001b[1;33m)\u001b[0m\u001b[1;33m[\u001b[0m\u001b[1;36m1\u001b[0m\u001b[1;33m]\u001b[0m\u001b[1;33m\u001b[0m\u001b[1;33m\u001b[0m\u001b[0m\n\u001b[0m\u001b[0;32m   2909\u001b[0m \u001b[1;33m\u001b[0m\u001b[0m\n\u001b[0;32m   2910\u001b[0m         \u001b[1;31m# take() does not accept boolean indexers\u001b[0m\u001b[1;33m\u001b[0m\u001b[1;33m\u001b[0m\u001b[1;33m\u001b[0m\u001b[0m\n",
      "\u001b[1;32m~\\anaconda3\\lib\\site-packages\\pandas\\core\\indexing.py\u001b[0m in \u001b[0;36m_get_listlike_indexer\u001b[1;34m(self, key, axis, raise_missing)\u001b[0m\n\u001b[0;32m   1252\u001b[0m             \u001b[0mkeyarr\u001b[0m\u001b[1;33m,\u001b[0m \u001b[0mindexer\u001b[0m\u001b[1;33m,\u001b[0m \u001b[0mnew_indexer\u001b[0m \u001b[1;33m=\u001b[0m \u001b[0max\u001b[0m\u001b[1;33m.\u001b[0m\u001b[0m_reindex_non_unique\u001b[0m\u001b[1;33m(\u001b[0m\u001b[0mkeyarr\u001b[0m\u001b[1;33m)\u001b[0m\u001b[1;33m\u001b[0m\u001b[1;33m\u001b[0m\u001b[0m\n\u001b[0;32m   1253\u001b[0m \u001b[1;33m\u001b[0m\u001b[0m\n\u001b[1;32m-> 1254\u001b[1;33m         \u001b[0mself\u001b[0m\u001b[1;33m.\u001b[0m\u001b[0m_validate_read_indexer\u001b[0m\u001b[1;33m(\u001b[0m\u001b[0mkeyarr\u001b[0m\u001b[1;33m,\u001b[0m \u001b[0mindexer\u001b[0m\u001b[1;33m,\u001b[0m \u001b[0maxis\u001b[0m\u001b[1;33m,\u001b[0m \u001b[0mraise_missing\u001b[0m\u001b[1;33m=\u001b[0m\u001b[0mraise_missing\u001b[0m\u001b[1;33m)\u001b[0m\u001b[1;33m\u001b[0m\u001b[1;33m\u001b[0m\u001b[0m\n\u001b[0m\u001b[0;32m   1255\u001b[0m         \u001b[1;32mreturn\u001b[0m \u001b[0mkeyarr\u001b[0m\u001b[1;33m,\u001b[0m \u001b[0mindexer\u001b[0m\u001b[1;33m\u001b[0m\u001b[1;33m\u001b[0m\u001b[0m\n\u001b[0;32m   1256\u001b[0m \u001b[1;33m\u001b[0m\u001b[0m\n",
      "\u001b[1;32m~\\anaconda3\\lib\\site-packages\\pandas\\core\\indexing.py\u001b[0m in \u001b[0;36m_validate_read_indexer\u001b[1;34m(self, key, indexer, axis, raise_missing)\u001b[0m\n\u001b[0;32m   1296\u001b[0m             \u001b[1;32mif\u001b[0m \u001b[0mmissing\u001b[0m \u001b[1;33m==\u001b[0m \u001b[0mlen\u001b[0m\u001b[1;33m(\u001b[0m\u001b[0mindexer\u001b[0m\u001b[1;33m)\u001b[0m\u001b[1;33m:\u001b[0m\u001b[1;33m\u001b[0m\u001b[1;33m\u001b[0m\u001b[0m\n\u001b[0;32m   1297\u001b[0m                 \u001b[0maxis_name\u001b[0m \u001b[1;33m=\u001b[0m \u001b[0mself\u001b[0m\u001b[1;33m.\u001b[0m\u001b[0mobj\u001b[0m\u001b[1;33m.\u001b[0m\u001b[0m_get_axis_name\u001b[0m\u001b[1;33m(\u001b[0m\u001b[0maxis\u001b[0m\u001b[1;33m)\u001b[0m\u001b[1;33m\u001b[0m\u001b[1;33m\u001b[0m\u001b[0m\n\u001b[1;32m-> 1298\u001b[1;33m                 \u001b[1;32mraise\u001b[0m \u001b[0mKeyError\u001b[0m\u001b[1;33m(\u001b[0m\u001b[1;34mf\"None of [{key}] are in the [{axis_name}]\"\u001b[0m\u001b[1;33m)\u001b[0m\u001b[1;33m\u001b[0m\u001b[1;33m\u001b[0m\u001b[0m\n\u001b[0m\u001b[0;32m   1299\u001b[0m \u001b[1;33m\u001b[0m\u001b[0m\n\u001b[0;32m   1300\u001b[0m             \u001b[1;31m# We (temporarily) allow for some missing keys with .loc, except in\u001b[0m\u001b[1;33m\u001b[0m\u001b[1;33m\u001b[0m\u001b[1;33m\u001b[0m\u001b[0m\n",
      "\u001b[1;31mKeyError\u001b[0m: \"None of [Int64Index([  27,   38,   40,   41,   47,   58,   60,   70,   82,   99,\\n            ...\\n            1100, 1101, 1102, 1103, 1104, 1105, 1106, 1107, 1108, 1109],\\n           dtype='int64', length=888)] are in the [columns]\""
     ]
    }
   ],
   "source": [
    "from sklearn.model_selection import StratifiedKFold\n",
    "from sklearn.base import clone\n",
    "from sklearn.metrics import precision_score, recall_score\n",
    "\n",
    "skfolds = StratifiedKFold(n_splits=5)\n",
    "\n",
    "for train_index, test_index in skfolds.split(nhl_season_data, nhl_season_data_labels):\n",
    "    clone_clf = clone(clf)\n",
    "    X_train_folds = nhl_season_data[train_index]\n",
    "    y_train_folds = (nhl_season_data_labels[train_index])\n",
    "    X_test_fold = nhl_season_data[test_index]\n",
    "    y_test_fold = (nhl_season_data_labels[test_index])\n",
    "    \n",
    "    clone_clf.fit(X_train_folds, y_train_folds)\n",
    "    y_pred = clone_clf.predict(X_test_fold)\n",
    "    n_correct = sum(y_pred == y_test_fold)\n",
    "    print(n_correct / len(y_pred))\n",
    "    print(recall_score(y_test_fold, y_pred))"
   ]
  },
  {
   "cell_type": "code",
   "execution_count": null,
   "metadata": {},
   "outputs": [],
   "source": [
    "from sklearn.model_selection import cross_val_score\n",
    "\n",
    "cross_val_score(clf, nhl_season_data, nhl_season_data_labels, cv=10, scoring=\"accuracy\")"
   ]
  },
  {
   "cell_type": "code",
   "execution_count": null,
   "metadata": {},
   "outputs": [],
   "source": [
    "from sklearn.model_selection import cross_val_predict\n",
    "\n",
    "y_train_pred = cross_val_predict(clf, nhl_season_data, nhl_season_data_labels, cv=10)"
   ]
  },
  {
   "cell_type": "code",
   "execution_count": null,
   "metadata": {},
   "outputs": [],
   "source": [
    "from sklearn.metrics import confusion_matrix\n",
    "\n",
    "confusion_matrix(nhl_season_data_labels, y_train_pred)"
   ]
  },
  {
   "cell_type": "code",
   "execution_count": 18,
   "metadata": {},
   "outputs": [],
   "source": [
    "from sklearn.model_selection import GridSearchCV\n",
    "parameters = [{'kernel': ['rbf'], 'gamma': [1e-3, 1e-2],\n",
    "                     'C': [1, 1000, 10000, 100000]},\n",
    "                    {'kernel': ['linear'], 'C': [1, 1000, 10000, 100000]}]\n",
    "\n",
    "SVC = GridSearchCV(estimator=SVC(), param_grid=parameters)"
   ]
  },
  {
   "cell_type": "code",
   "execution_count": 19,
   "metadata": {},
   "outputs": [
    {
     "name": "stdout",
     "output_type": "stream",
     "text": [
      "{'C': 1, 'gamma': 0.001, 'kernel': 'rbf'}\n"
     ]
    }
   ],
   "source": [
    "SVC.fit(scaled_nhl_season_data, nhl_season_data_labels)\n",
    "print(SVC.best_params_)"
   ]
  },
  {
   "cell_type": "code",
   "execution_count": 20,
   "metadata": {},
   "outputs": [
    {
     "data": {
      "text/plain": [
       "LogisticRegression()"
      ]
     },
     "execution_count": 20,
     "metadata": {},
     "output_type": "execute_result"
    }
   ],
   "source": [
    "from sklearn.linear_model import LogisticRegression\n",
    "\n",
    "log_reg = LogisticRegression()\n",
    "log_reg.fit(scaled_nhl_season_data, nhl_season_data_labels)"
   ]
  },
  {
   "cell_type": "code",
   "execution_count": 21,
   "metadata": {},
   "outputs": [
    {
     "data": {
      "text/plain": [
       "array([1, 1, 1, 1, 1, 1, 1, 1, 1, 1, 1, 1, 1, 1, 1, 1, 1, 1, 1, 1, 1, 1,\n",
       "       1, 1, 1, 1, 1, 1, 1, 1, 1, 1], dtype=int64)"
      ]
     },
     "execution_count": 21,
     "metadata": {},
     "output_type": "execute_result"
    }
   ],
   "source": [
    "log_reg.predict(X)"
   ]
  },
  {
   "cell_type": "code",
   "execution_count": 22,
   "metadata": {},
   "outputs": [
    {
     "data": {
      "text/plain": [
       "array([[0., 1.],\n",
       "       [0., 1.],\n",
       "       [0., 1.],\n",
       "       [0., 1.],\n",
       "       [0., 1.],\n",
       "       [0., 1.],\n",
       "       [0., 1.],\n",
       "       [0., 1.],\n",
       "       [0., 1.],\n",
       "       [0., 1.],\n",
       "       [0., 1.],\n",
       "       [0., 1.],\n",
       "       [0., 1.],\n",
       "       [0., 1.],\n",
       "       [0., 1.],\n",
       "       [0., 1.],\n",
       "       [0., 1.],\n",
       "       [0., 1.],\n",
       "       [0., 1.],\n",
       "       [0., 1.],\n",
       "       [0., 1.],\n",
       "       [0., 1.],\n",
       "       [0., 1.],\n",
       "       [0., 1.],\n",
       "       [0., 1.],\n",
       "       [0., 1.],\n",
       "       [0., 1.],\n",
       "       [0., 1.],\n",
       "       [0., 1.],\n",
       "       [0., 1.],\n",
       "       [0., 1.],\n",
       "       [0., 1.]])"
      ]
     },
     "execution_count": 22,
     "metadata": {},
     "output_type": "execute_result"
    }
   ],
   "source": [
    "log_reg.predict_proba(X)"
   ]
  },
  {
   "cell_type": "code",
   "execution_count": null,
   "metadata": {},
   "outputs": [],
   "source": []
  }
 ],
 "metadata": {
  "kernelspec": {
   "display_name": "Python 3",
   "language": "python",
   "name": "python3"
  },
  "language_info": {
   "codemirror_mode": {
    "name": "ipython",
    "version": 3
   },
   "file_extension": ".py",
   "mimetype": "text/x-python",
   "name": "python",
   "nbconvert_exporter": "python",
   "pygments_lexer": "ipython3",
   "version": "3.8.5"
  }
 },
 "nbformat": 4,
 "nbformat_minor": 4
}
